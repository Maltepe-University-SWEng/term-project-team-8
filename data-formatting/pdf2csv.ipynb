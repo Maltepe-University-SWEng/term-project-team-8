{
 "cells": [
  {
   "cell_type": "code",
   "execution_count": 2,
   "id": "b196a252-f837-494a-851c-b5c33148ec4c",
   "metadata": {},
   "outputs": [],
   "source": [
    "# !pip install PyMuPDF"
   ]
  },
  {
   "cell_type": "code",
   "execution_count": 6,
   "id": "f11aec7b-4066-4246-bc64-d1d280a08ce1",
   "metadata": {},
   "outputs": [
    {
     "name": "stdout",
     "output_type": "stream",
     "text": [
      "148 fıkra başarıyla 'fikralar1_duzenli.csv' dosyasına kaydedildi.\n"
     ]
    }
   ],
   "source": [
    "import fitz  # PyMuPDF\n",
    "import re\n",
    "import pandas as pd\n",
    "\n",
    "# --- 1. PDF'ten metni çıkar ---\n",
    "def extract_text_from_pdf(pdf_path):\n",
    "    text = \"\"\n",
    "    with fitz.open(pdf_path) as doc:\n",
    "        for page in doc:\n",
    "            text += page.get_text()\n",
    "    return text\n",
    "\n",
    "# --- 2. Fıkraları numara, başlık, içerik olarak ayır ---\n",
    "def split_jokes_with_title(text):\n",
    "    # fıkra başlangıcına göre böl: örnek - 1. Başlık\\nİçerik...\n",
    "    raw_jokes = re.split(r'\\n?\\s*(\\d+\\.)\\s+', text)\n",
    "    \n",
    "    jokes = []\n",
    "    for i in range(1, len(raw_jokes), 2):\n",
    "        number = raw_jokes[i].strip(\".\")\n",
    "        body = raw_jokes[i+1].strip()\n",
    "\n",
    "        # Başlık: ilk satır, İçerik: kalan satırlar\n",
    "        lines = body.split('\\n')\n",
    "        title = lines[0].strip()\n",
    "        content = ' '.join(line.strip() for line in lines[1:] if line.strip())\n",
    "\n",
    "        jokes.append({\n",
    "            \"ID\": int(number),\n",
    "            \"Başlık\": title,\n",
    "            \"İçerik\": content\n",
    "        })\n",
    "    return jokes\n",
    "\n",
    "# --- 3. CSV'ye kaydet ---\n",
    "def save_to_csv(jokes, output_path):\n",
    "    df = pd.DataFrame(jokes)\n",
    "    df.sort_values(\"ID\", inplace=True)  # ID'ye göre sırala\n",
    "    df.to_csv(output_path, index=False)\n",
    "\n",
    "# --- 4. Ana işlem ---\n",
    "pdf_path = \"fikralar1.pdf\"      # PDF dosyanın adı\n",
    "output_csv = \"fikralar1_duzenli.csv\"\n",
    "\n",
    "text = extract_text_from_pdf(pdf_path)\n",
    "jokes = split_jokes_with_title(text)\n",
    "save_to_csv(jokes, output_csv)\n",
    "\n",
    "print(f\"{len(jokes)} fıkra başarıyla '{output_csv}' dosyasına kaydedildi.\")"
   ]
  },
  {
   "cell_type": "code",
   "execution_count": null,
   "id": "3ef5f746-b031-49b3-81af-23202a6018fe",
   "metadata": {},
   "outputs": [],
   "source": []
  }
 ],
 "metadata": {
  "kernelspec": {
   "display_name": "Python 3 (ipykernel)",
   "language": "python",
   "name": "python3"
  },
  "language_info": {
   "codemirror_mode": {
    "name": "ipython",
    "version": 3
   },
   "file_extension": ".py",
   "mimetype": "text/x-python",
   "name": "python",
   "nbconvert_exporter": "python",
   "pygments_lexer": "ipython3",
   "version": "3.12.9"
  }
 },
 "nbformat": 4,
 "nbformat_minor": 5
}
