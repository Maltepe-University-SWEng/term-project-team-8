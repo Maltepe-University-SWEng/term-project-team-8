{
 "cells": [
  {
   "cell_type": "code",
   "execution_count": 4,
   "id": "054e0044-2463-45d1-87aa-140a18b712e9",
   "metadata": {},
   "outputs": [
    {
     "name": "stdout",
     "output_type": "stream",
     "text": [
      "Dönüştürüldü ve fikra_utf8.csv olarak kaydedildi.\n"
     ]
    }
   ],
   "source": [
    "import pandas as pd\n",
    "\n",
    "dosya_yolu = \"fikra.csv\"\n",
    "\n",
    "# Daha esnek okuma\n",
    "df = pd.read_csv(dosya_yolu, encoding=\"ISO-8859-9\", sep=None, engine='python')\n",
    "\n",
    "# UTF-8 olarak tekrar kaydet\n",
    "df.to_csv(\"fikra_utf8.csv\", index=False, encoding=\"utf-8\")\n",
    "\n",
    "print(\"Dönüştürüldü ve fikra_utf8.csv olarak kaydedildi.\")\n"
   ]
  },
  {
   "cell_type": "code",
   "execution_count": null,
   "id": "40feb89c-b67a-4f62-913c-0f586b4b94b4",
   "metadata": {},
   "outputs": [],
   "source": []
  }
 ],
 "metadata": {
  "kernelspec": {
   "display_name": "Python 3 (ipykernel)",
   "language": "python",
   "name": "python3"
  },
  "language_info": {
   "codemirror_mode": {
    "name": "ipython",
    "version": 3
   },
   "file_extension": ".py",
   "mimetype": "text/x-python",
   "name": "python",
   "nbconvert_exporter": "python",
   "pygments_lexer": "ipython3",
   "version": "3.12.9"
  }
 },
 "nbformat": 4,
 "nbformat_minor": 5
}
