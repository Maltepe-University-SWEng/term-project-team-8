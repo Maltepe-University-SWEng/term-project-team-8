{
 "cells": [
  {
   "cell_type": "code",
   "execution_count": 2,
   "id": "a42c7278-ddad-4099-b16e-eb99659fb919",
   "metadata": {},
   "outputs": [],
   "source": [
    "# !pip install python-docx"
   ]
  },
  {
   "cell_type": "code",
   "execution_count": 14,
   "id": "6632765c-64be-4852-8c3f-b3fcd3def504",
   "metadata": {},
   "outputs": [
    {
     "name": "stdout",
     "output_type": "stream",
     "text": [
      "273 fıkra başarıyla 'fikralar_duzgun2.csv' dosyasına kaydedildi.\n"
     ]
    }
   ],
   "source": [
    "from docx import Document\n",
    "import pandas as pd\n",
    "import re\n",
    "\n",
    "def is_probable_title(text):\n",
    "    # Eğer 1-6 kelime varsa ve her kelimenin baş harfi büyükse, başlık olabilir\n",
    "    words = text.split()\n",
    "    return (\n",
    "        1 <= len(words) <= 6 and\n",
    "        all(word[0].isupper() for word in words if word)\n",
    "    )\n",
    "\n",
    "def parse_fikralar(path):\n",
    "    doc = Document(path)\n",
    "    fıkralar = []\n",
    "    current_title = None\n",
    "    current_content = []\n",
    "    id_counter = 1\n",
    "\n",
    "    for para in doc.paragraphs:\n",
    "        text = para.text.strip()\n",
    "        if not text:\n",
    "            continue\n",
    "\n",
    "        # Format 1: 1. Başlık\n",
    "        match = re.match(r\"^(\\d+)\\.\\s+(.*)\", text)\n",
    "        if match:\n",
    "            if current_title and current_content:\n",
    "                fıkralar.append({\n",
    "                    \"ID\": id_counter,\n",
    "                    \"Başlık\": current_title,\n",
    "                    \"İçerik\": \" \".join(current_content).strip()\n",
    "                })\n",
    "                id_counter += 1\n",
    "            current_title = match.group(2).strip()\n",
    "            current_content = []\n",
    "            continue\n",
    "\n",
    "        # Format 2: Başlık gibi görünüyor (ama sayı yok)\n",
    "        elif is_probable_title(text):\n",
    "            if current_title and current_content:\n",
    "                fıkralar.append({\n",
    "                    \"ID\": id_counter,\n",
    "                    \"Başlık\": current_title,\n",
    "                    \"İçerik\": \" \".join(current_content).strip()\n",
    "                })\n",
    "                id_counter += 1\n",
    "            current_title = text\n",
    "            current_content = []\n",
    "            continue\n",
    "\n",
    "        # Normal içerik satırı\n",
    "        current_content.append(text)\n",
    "\n",
    "    # Son fıkrayı da ekle\n",
    "    if current_title and current_content:\n",
    "        fıkralar.append({\n",
    "            \"ID\": id_counter,\n",
    "            \"Başlık\": current_title,\n",
    "            \"İçerik\": \" \".join(current_content).strip()\n",
    "        })\n",
    "\n",
    "    return fıkralar\n",
    "\n",
    "# Ana işlem\n",
    "docx_path = \"fikralar2.docx\"\n",
    "output_csv = \"fikralar_duzgun2.csv\"\n",
    "\n",
    "fıkralar = parse_fikralar(docx_path)\n",
    "df = pd.DataFrame(fıkralar)[[\"ID\", \"Başlık\", \"İçerik\"]]\n",
    "df.to_csv(output_csv, index=False)\n",
    "\n",
    "print(f\"{len(df)} fıkra başarıyla '{output_csv}' dosyasına kaydedildi.\")"
   ]
  },
  {
   "cell_type": "code",
   "execution_count": 11,
   "id": "514731de-654a-430e-a3c0-543972104bb0",
   "metadata": {},
   "outputs": [],
   "source": [
    "#"
   ]
  },
  {
   "cell_type": "code",
   "execution_count": null,
   "id": "50a93d1b-465a-427e-b7ef-b14b82af3c2f",
   "metadata": {},
   "outputs": [],
   "source": []
  }
 ],
 "metadata": {
  "kernelspec": {
   "display_name": "Python 3 (ipykernel)",
   "language": "python",
   "name": "python3"
  },
  "language_info": {
   "codemirror_mode": {
    "name": "ipython",
    "version": 3
   },
   "file_extension": ".py",
   "mimetype": "text/x-python",
   "name": "python",
   "nbconvert_exporter": "python",
   "pygments_lexer": "ipython3",
   "version": "3.12.9"
  }
 },
 "nbformat": 4,
 "nbformat_minor": 5
}
