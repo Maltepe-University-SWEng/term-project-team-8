{
 "cells": [
  {
   "cell_type": "code",
   "execution_count": 1,
   "id": "ae576d4f-667f-4e67-8bc3-0b25a78b9b3d",
   "metadata": {},
   "outputs": [
    {
     "name": "stdout",
     "output_type": "stream",
     "text": [
      "CSV'den JSON'a başarıyla dönüştürüldü!\n"
     ]
    }
   ],
   "source": [
    "import csv\n",
    "import json\n",
    "\n",
    "# Giriş ve çıkış dosya yolları\n",
    "csv_file_path = 'dataset.csv'\n",
    "json_file_path = 'dataset.json'\n",
    "\n",
    "# CSV'yi oku ve JSON'a çevir\n",
    "with open(csv_file_path, mode='r', encoding='utf-8') as csv_file:\n",
    "    csv_reader = csv.DictReader(csv_file)\n",
    "    data = list(csv_reader)\n",
    "\n",
    "with open(json_file_path, mode='w', encoding='utf-8') as json_file:\n",
    "    json.dump(data, json_file, indent=4, ensure_ascii=False)\n",
    "\n",
    "print(\"CSV'den JSON'a başarıyla dönüştürüldü!\")"
   ]
  },
  {
   "cell_type": "code",
   "execution_count": null,
   "id": "87035996-840b-4fae-bed9-c5fbbe376791",
   "metadata": {},
   "outputs": [],
   "source": []
  }
 ],
 "metadata": {
  "kernelspec": {
   "display_name": "Python 3 (ipykernel)",
   "language": "python",
   "name": "python3"
  },
  "language_info": {
   "codemirror_mode": {
    "name": "ipython",
    "version": 3
   },
   "file_extension": ".py",
   "mimetype": "text/x-python",
   "name": "python",
   "nbconvert_exporter": "python",
   "pygments_lexer": "ipython3",
   "version": "3.12.9"
  }
 },
 "nbformat": 4,
 "nbformat_minor": 5
}
