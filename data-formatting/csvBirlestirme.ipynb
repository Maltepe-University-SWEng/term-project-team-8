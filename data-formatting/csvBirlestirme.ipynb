{
 "cells": [
  {
   "cell_type": "code",
   "execution_count": 6,
   "id": "5ba3de72-02eb-420a-a973-7ff3f8ae5fd8",
   "metadata": {},
   "outputs": [],
   "source": [
    "import pandas as pd\n",
    "import glob\n",
    "\n",
    "# Tüm CSV dosyalarını al\n",
    "csv_files = glob.glob(\"*.csv\")\n",
    "\n",
    "# Hepsini oku\n",
    "dfs = [pd.read_csv(file) for file in csv_files]\n",
    "\n",
    "# Eski ID sütunlarını sil (eğer varsa)\n",
    "for df in dfs:\n",
    "    if 'ID' in df.columns:\n",
    "        df.drop(columns=['ID'], inplace=True)\n",
    "\n",
    "# Birleştir\n",
    "combined_df = pd.concat(dfs, ignore_index=True)\n",
    "\n",
    "# Yeni ID sütunu ekle\n",
    "combined_df.insert(0, 'ID', range(1, 1 + len(combined_df)))\n",
    "\n",
    "# Yeni dosyaya kaydet\n",
    "combined_df.to_csv(\"datasett.csv\", index=False)"
   ]
  },
  {
   "cell_type": "code",
   "execution_count": 6,
   "id": "4ab54c33-bc36-41b0-853e-63cd8172eb9f",
   "metadata": {},
   "outputs": [],
   "source": [
    "###"
   ]
  },
  {
   "cell_type": "code",
   "execution_count": 4,
   "id": "7253d954-2a74-4c8e-822c-eaad5151c0c2",
   "metadata": {},
   "outputs": [],
   "source": [
    "# CSV dosyasını oku (örneğin UTF-8 encoding ile, gerekirse encoding='utf-8-sig' kullan)\n",
    "df = pd.read_csv(\"dosya_yolu.csv\")  # sep=';' gerekebilir\n",
    "\n",
    "# Sadece \"İçerik\" sütununu al ve adını \"text\" olarak değiştir\n",
    "df_text = df[['İçerik']].rename(columns={'İçerik': 'text'})\n",
    "\n",
    "# Yeni CSV olarak kaydet\n",
    "df_text.to_csv(\"sadece_icerik.csv\", index=False)"
   ]
  },
  {
   "cell_type": "code",
   "execution_count": 7,
   "id": "c94a3f34-cc99-4852-8772-de7cb546b68b",
   "metadata": {},
   "outputs": [],
   "source": [
    "import pandas as pd\n",
    "\n",
    "# CSV dosyasını oku\n",
    "df = pd.read_csv(\"datasett.csv\")\n",
    "\n",
    "# İlk sütunu düşür (index ile)\n",
    "df = df.drop(df.columns[0], axis=1)\n",
    "\n",
    "# Yeni haliyle dosyayı tekrar kaydet (istersen)\n",
    "df.to_csv(\"duzenlenmis_dosya.csv\", index=False)"
   ]
  },
  {
   "cell_type": "code",
   "execution_count": 1,
   "id": "0bdf5190-8c73-492a-848d-9060bf4afee2",
   "metadata": {},
   "outputs": [],
   "source": [
    "###"
   ]
  },
  {
   "cell_type": "code",
   "execution_count": 2,
   "id": "6500b847-9525-4d43-a438-df3b1ef66d64",
   "metadata": {},
   "outputs": [],
   "source": [
    "import pandas as pd\n",
    "\n",
    "# CSV dosyasını doğru ayırıcıyla yükle (noktalı virgül)\n",
    "df = pd.read_csv(\"_fikra.csv\", sep=';')\n",
    "\n",
    "# Sadece içerik sütununu al (Column3)\n",
    "icerik_df = df[['text']]\n",
    "\n",
    "# Yeni CSV dosyası olarak kaydet\n",
    "icerik_df.to_csv(\"sadece_icerik.csv\", index=False)"
   ]
  },
  {
   "cell_type": "code",
   "execution_count": null,
   "id": "8c56d350-5b66-4965-ae60-f142e83f282d",
   "metadata": {},
   "outputs": [],
   "source": [
    "###"
   ]
  },
  {
   "cell_type": "code",
   "execution_count": 5,
   "id": "e4e21529-f6d3-41e6-b0d7-fa361ae3f4d6",
   "metadata": {},
   "outputs": [],
   "source": [
    "import pandas as pd\n",
    "\n",
    "# CSV dosyasını oku (örneğin UTF-8 encoding ile, gerekirse encoding='utf-8-sig' kullan)\n",
    "df = pd.read_csv(\"dataset.csv\")  # sep=';' gerekebilir\n",
    "\n",
    "# Sadece \"İçerik\" sütununu al ve adını \"text\" olarak değiştir\n",
    "df_text = df[['İçerik']].rename(columns={'İçerik': 'text'})\n",
    "\n",
    "# Yeni CSV olarak kaydet\n",
    "df_text.to_csv(\"icerik.csv\", index=False)"
   ]
  }
 ],
 "metadata": {
  "kernelspec": {
   "display_name": "Python 3 (ipykernel)",
   "language": "python",
   "name": "python3"
  },
  "language_info": {
   "codemirror_mode": {
    "name": "ipython",
    "version": 3
   },
   "file_extension": ".py",
   "mimetype": "text/x-python",
   "name": "python",
   "nbconvert_exporter": "python",
   "pygments_lexer": "ipython3",
   "version": "3.12.9"
  }
 },
 "nbformat": 4,
 "nbformat_minor": 5
}
